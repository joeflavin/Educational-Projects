{
 "cells": [
  {
   "cell_type": "markdown",
   "metadata": {},
   "source": [
    "### First define the MySeries Class"
   ]
  },
  {
   "cell_type": "code",
   "execution_count": 1,
   "metadata": {},
   "outputs": [],
   "source": [
    "from MySeries import MySeries"
   ]
  },
  {
   "cell_type": "markdown",
   "metadata": {},
   "source": [
    "### Test the MySeries Class"
   ]
  },
  {
   "cell_type": "markdown",
   "metadata": {},
   "source": [
    "#### Define a MySeries instance using a dictionary"
   ]
  },
  {
   "cell_type": "code",
   "execution_count": 2,
   "metadata": {},
   "outputs": [],
   "source": [
    "d = {'b':1, 'a':0, 'c':2}\n",
    "s2 = MySeries(d)"
   ]
  },
  {
   "cell_type": "code",
   "execution_count": 3,
   "metadata": {},
   "outputs": [
    {
     "data": {
      "text/plain": [
       "2"
      ]
     },
     "execution_count": 3,
     "metadata": {},
     "output_type": "execute_result"
    }
   ],
   "source": [
    "s2.max()"
   ]
  },
  {
   "cell_type": "code",
   "execution_count": 4,
   "metadata": {},
   "outputs": [
    {
     "data": {
      "text/plain": [
       "0"
      ]
     },
     "execution_count": 4,
     "metadata": {},
     "output_type": "execute_result"
    }
   ],
   "source": [
    "s2.min()"
   ]
  },
  {
   "cell_type": "code",
   "execution_count": 5,
   "metadata": {},
   "outputs": [
    {
     "data": {
      "text/plain": [
       "1.0"
      ]
     },
     "execution_count": 5,
     "metadata": {},
     "output_type": "execute_result"
    }
   ],
   "source": [
    "s2.mean()"
   ]
  },
  {
   "cell_type": "code",
   "execution_count": 6,
   "metadata": {},
   "outputs": [
    {
     "name": "stdout",
     "output_type": "stream",
     "text": [
      "b               1              \n",
      "a               0              \n",
      "c               2              \n"
     ]
    }
   ],
   "source": [
    "s2.print()"
   ]
  },
  {
   "cell_type": "markdown",
   "metadata": {},
   "source": [
    "#### Define MySeries instance using lists"
   ]
  },
  {
   "cell_type": "code",
   "execution_count": 7,
   "metadata": {},
   "outputs": [],
   "source": [
    "s3 = MySeries([1,3,2,5,4], ['one', 'three', 'two', 'five', 'four'])"
   ]
  },
  {
   "cell_type": "code",
   "execution_count": 8,
   "metadata": {},
   "outputs": [
    {
     "data": {
      "text/plain": [
       "5"
      ]
     },
     "execution_count": 8,
     "metadata": {},
     "output_type": "execute_result"
    }
   ],
   "source": [
    "s3.max()"
   ]
  },
  {
   "cell_type": "code",
   "execution_count": 9,
   "metadata": {},
   "outputs": [
    {
     "data": {
      "text/plain": [
       "1"
      ]
     },
     "execution_count": 9,
     "metadata": {},
     "output_type": "execute_result"
    }
   ],
   "source": [
    "s3.min()"
   ]
  },
  {
   "cell_type": "code",
   "execution_count": 10,
   "metadata": {},
   "outputs": [
    {
     "data": {
      "text/plain": [
       "3.0"
      ]
     },
     "execution_count": 10,
     "metadata": {},
     "output_type": "execute_result"
    }
   ],
   "source": [
    "s3.mean()"
   ]
  },
  {
   "cell_type": "code",
   "execution_count": 11,
   "metadata": {},
   "outputs": [
    {
     "name": "stdout",
     "output_type": "stream",
     "text": [
      "one             1              \n",
      "three           3              \n",
      "two             2              \n",
      "five            5              \n",
      "four            4              \n"
     ]
    }
   ],
   "source": [
    "s3.print()"
   ]
  },
  {
   "cell_type": "code",
   "execution_count": 12,
   "metadata": {},
   "outputs": [
    {
     "data": {
      "text/plain": [
       "3"
      ]
     },
     "execution_count": 12,
     "metadata": {},
     "output_type": "execute_result"
    }
   ],
   "source": [
    "s3.item_at_ind('three')"
   ]
  },
  {
   "cell_type": "markdown",
   "metadata": {},
   "source": [
    "#### Define a MySeries instance without an index"
   ]
  },
  {
   "cell_type": "code",
   "execution_count": 13,
   "metadata": {},
   "outputs": [],
   "source": [
    "s4 = MySeries([2,2,2,3,3,3])"
   ]
  },
  {
   "cell_type": "code",
   "execution_count": 14,
   "metadata": {},
   "outputs": [
    {
     "data": {
      "text/plain": [
       "3"
      ]
     },
     "execution_count": 14,
     "metadata": {},
     "output_type": "execute_result"
    }
   ],
   "source": [
    "s4.max()"
   ]
  },
  {
   "cell_type": "code",
   "execution_count": 15,
   "metadata": {},
   "outputs": [
    {
     "data": {
      "text/plain": [
       "2"
      ]
     },
     "execution_count": 15,
     "metadata": {},
     "output_type": "execute_result"
    }
   ],
   "source": [
    "s4.min()"
   ]
  },
  {
   "cell_type": "code",
   "execution_count": 16,
   "metadata": {},
   "outputs": [
    {
     "data": {
      "text/plain": [
       "2.5"
      ]
     },
     "execution_count": 16,
     "metadata": {},
     "output_type": "execute_result"
    }
   ],
   "source": [
    "s4.mean()"
   ]
  },
  {
   "cell_type": "code",
   "execution_count": 17,
   "metadata": {},
   "outputs": [
    {
     "name": "stdout",
     "output_type": "stream",
     "text": [
      "0               2              \n",
      "1               2              \n",
      "2               2              \n",
      "3               3              \n",
      "4               3              \n",
      "5               3              \n"
     ]
    }
   ],
   "source": [
    "s4.print()"
   ]
  },
  {
   "cell_type": "markdown",
   "metadata": {},
   "source": [
    "### Now define the MyDataFrame Class"
   ]
  },
  {
   "cell_type": "code",
   "execution_count": 18,
   "metadata": {},
   "outputs": [],
   "source": [
    "from MyDataFrame import MyDataFrame"
   ]
  },
  {
   "cell_type": "markdown",
   "metadata": {},
   "source": [
    "### Test the MyDataFrame Class"
   ]
  },
  {
   "cell_type": "markdown",
   "metadata": {},
   "source": [
    "#### Weather Data Frame"
   ]
  },
  {
   "cell_type": "code",
   "execution_count": 19,
   "metadata": {},
   "outputs": [],
   "source": [
    "d = {'Sun Hours': [4.5,4.0,5.1,5],\n",
    "     'Max Temp': [19.6,19.1,19.6,20.0],\n",
    "     'Min Temp': [12.7,12.5,13.3,12.1],\n",
    "     'Rain (mm)': [82,109,65,76],\n",
    "     'Rain Days': [13,20,10,9.7]}"
   ]
  },
  {
   "cell_type": "code",
   "execution_count": 20,
   "metadata": {},
   "outputs": [],
   "source": [
    "df2 = MyDataFrame(d, index = ['Clare', 'Galway', 'Dublin', 'Wexford'])"
   ]
  },
  {
   "cell_type": "code",
   "execution_count": 21,
   "metadata": {},
   "outputs": [
    {
     "data": {
      "text/plain": [
       "dict_keys(['Clare', 'Galway', 'Dublin', 'Wexford'])"
      ]
     },
     "execution_count": 21,
     "metadata": {},
     "output_type": "execute_result"
    }
   ],
   "source": [
    "df2.df_dict['Sun Hours'].s_dict.keys()"
   ]
  },
  {
   "cell_type": "code",
   "execution_count": 22,
   "metadata": {},
   "outputs": [
    {
     "data": {
      "text/plain": [
       "19.6"
      ]
     },
     "execution_count": 22,
     "metadata": {},
     "output_type": "execute_result"
    }
   ],
   "source": [
    "df2.df_dict['Max Temp'].item_at_ind('Clare')"
   ]
  },
  {
   "cell_type": "code",
   "execution_count": 23,
   "metadata": {},
   "outputs": [
    {
     "name": "stdout",
     "output_type": "stream",
     "text": [
      "Clare           4.5            \n",
      "Galway          4.0            \n",
      "Dublin          5.1            \n",
      "Wexford         5              \n"
     ]
    }
   ],
   "source": [
    "df2.df_dict['Sun Hours'].print()"
   ]
  },
  {
   "cell_type": "code",
   "execution_count": 24,
   "metadata": {},
   "outputs": [
    {
     "name": "stdout",
     "output_type": "stream",
     "text": [
      "                Sun Hours       Max Temp        Min Temp        Rain (mm)       Rain Days      \n",
      "Clare           4.5             19.6            12.7            82              13             \n",
      "Galway          4.0             19.1            12.5            109             20             \n",
      "Dublin          5.1             19.6            13.3            65              10             \n",
      "Wexford         5               20.0            12.1            76              9.7            \n"
     ]
    }
   ],
   "source": [
    "df2.print()"
   ]
  },
  {
   "cell_type": "code",
   "execution_count": 25,
   "metadata": {},
   "outputs": [],
   "source": [
    "df2.sort_values('Rain (mm)')"
   ]
  },
  {
   "cell_type": "code",
   "execution_count": 26,
   "metadata": {},
   "outputs": [
    {
     "name": "stdout",
     "output_type": "stream",
     "text": [
      "                Sun Hours       Max Temp        Min Temp        Rain (mm)       Rain Days      \n",
      "Dublin          5.1             19.6            13.3            65              10             \n",
      "Wexford         5               20.0            12.1            76              9.7            \n",
      "Clare           4.5             19.6            12.7            82              13             \n",
      "Galway          4.0             19.1            12.5            109             20             \n"
     ]
    }
   ],
   "source": [
    "df2.print()"
   ]
  },
  {
   "cell_type": "code",
   "execution_count": 27,
   "metadata": {},
   "outputs": [
    {
     "name": "stdout",
     "output_type": "stream",
     "text": [
      "Sun Hours           4.00\n",
      "Max Temp           19.10\n",
      "Min Temp           12.10\n",
      "Rain (mm)          65.00\n",
      "Rain Days           9.70\n"
     ]
    }
   ],
   "source": [
    "df2.min()"
   ]
  },
  {
   "cell_type": "code",
   "execution_count": 28,
   "metadata": {},
   "outputs": [
    {
     "name": "stdout",
     "output_type": "stream",
     "text": [
      "Sun Hours           5.10\n",
      "Max Temp           20.00\n",
      "Min Temp           13.30\n",
      "Rain (mm)         109.00\n",
      "Rain Days          20.00\n"
     ]
    }
   ],
   "source": [
    "df2.max()"
   ]
  },
  {
   "cell_type": "code",
   "execution_count": 29,
   "metadata": {},
   "outputs": [
    {
     "name": "stdout",
     "output_type": "stream",
     "text": [
      "Sun Hours           4.65\n",
      "Max Temp           19.58\n",
      "Min Temp           12.65\n",
      "Rain (mm)          83.00\n",
      "Rain Days          13.18\n"
     ]
    }
   ],
   "source": [
    "df2.mean()"
   ]
  },
  {
   "cell_type": "markdown",
   "metadata": {},
   "source": [
    "#### Films Data Frame"
   ]
  },
  {
   "cell_type": "code",
   "execution_count": 30,
   "metadata": {},
   "outputs": [],
   "source": [
    "films = {'Rank': [112,62,41,172,230,176],\n",
    "        'Release Year': [1973,1980,1960,2015,1976,1996],\n",
    "        'IMDB Rating': [8.3,8.4,8.5,8.1,8.1,8.1],\n",
    "        'Time (minutes)': [129,146,109,118,120,98],\n",
    "        'Main Genre': ['Comedy','Horror','Horror','Drama','Drama','Drama']}\n",
    "f_names = ['Sting','Shining', 'Psycho','Room','Rocky','Fargo']\n",
    "\n",
    "films_df =  MyDataFrame(films, index = f_names) "
   ]
  },
  {
   "cell_type": "code",
   "execution_count": 31,
   "metadata": {},
   "outputs": [
    {
     "name": "stdout",
     "output_type": "stream",
     "text": [
      "                Rank            Release Year    IMDB Rating     Time (minutes)  Main Genre     \n",
      "Sting           112             1973            8.3             129             Comedy         \n",
      "Shining         62              1980            8.4             146             Horror         \n",
      "Psycho          41              1960            8.5             109             Horror         \n",
      "Room            172             2015            8.1             118             Drama          \n",
      "Rocky           230             1976            8.1             120             Drama          \n",
      "Fargo           176             1996            8.1             98              Drama          \n"
     ]
    }
   ],
   "source": [
    "films_df.print()"
   ]
  },
  {
   "cell_type": "code",
   "execution_count": 32,
   "metadata": {},
   "outputs": [
    {
     "name": "stdout",
     "output_type": "stream",
     "text": [
      "Rank              132.17\n",
      "Release Year     1983.33\n",
      "IMDB Rating         8.25\n",
      "Time (minutes)    120.00\n"
     ]
    }
   ],
   "source": [
    "films_df.mean()"
   ]
  },
  {
   "cell_type": "code",
   "execution_count": 33,
   "metadata": {},
   "outputs": [],
   "source": [
    "films_df.sort_values('Release Year')"
   ]
  },
  {
   "cell_type": "code",
   "execution_count": 34,
   "metadata": {},
   "outputs": [
    {
     "name": "stdout",
     "output_type": "stream",
     "text": [
      "                Rank            Release Year    IMDB Rating     Time (minutes)  Main Genre     \n",
      "Psycho          41              1960            8.5             109             Horror         \n",
      "Sting           112             1973            8.3             129             Comedy         \n",
      "Rocky           230             1976            8.1             120             Drama          \n",
      "Shining         62              1980            8.4             146             Horror         \n",
      "Fargo           176             1996            8.1             98              Drama          \n",
      "Room            172             2015            8.1             118             Drama          \n"
     ]
    }
   ],
   "source": [
    "films_df.print()"
   ]
  },
  {
   "cell_type": "code",
   "execution_count": 35,
   "metadata": {},
   "outputs": [],
   "source": [
    "films_df.sort_values('Time (minutes)')"
   ]
  },
  {
   "cell_type": "code",
   "execution_count": 36,
   "metadata": {},
   "outputs": [
    {
     "name": "stdout",
     "output_type": "stream",
     "text": [
      "                Rank            Release Year    IMDB Rating     Time (minutes)  Main Genre     \n",
      "Fargo           176             1996            8.1             98              Drama          \n",
      "Psycho          41              1960            8.5             109             Horror         \n",
      "Room            172             2015            8.1             118             Drama          \n",
      "Rocky           230             1976            8.1             120             Drama          \n",
      "Sting           112             1973            8.3             129             Comedy         \n",
      "Shining         62              1980            8.4             146             Horror         \n"
     ]
    }
   ],
   "source": [
    "films_df.print()"
   ]
  },
  {
   "cell_type": "code",
   "execution_count": 37,
   "metadata": {},
   "outputs": [
    {
     "name": "stdout",
     "output_type": "stream",
     "text": [
      "Rank              230.00\n",
      "Release Year     2015.00\n",
      "IMDB Rating         8.50\n",
      "Time (minutes)    146.00\n",
      "Main Genre      Horror\n"
     ]
    }
   ],
   "source": [
    "films_df.max()"
   ]
  },
  {
   "cell_type": "markdown",
   "metadata": {},
   "source": [
    "#### An unindexed version of the Weather Data Frame"
   ]
  },
  {
   "cell_type": "code",
   "execution_count": 38,
   "metadata": {},
   "outputs": [],
   "source": [
    "test = MyDataFrame(d)"
   ]
  },
  {
   "cell_type": "code",
   "execution_count": 39,
   "metadata": {},
   "outputs": [
    {
     "name": "stdout",
     "output_type": "stream",
     "text": [
      "                Sun Hours       Max Temp        Min Temp        Rain (mm)       Rain Days      \n",
      "0               4.5             19.6            12.7            82              13             \n",
      "1               4.0             19.1            12.5            109             20             \n",
      "2               5.1             19.6            13.3            65              10             \n",
      "3               5               20.0            12.1            76              9.7            \n"
     ]
    }
   ],
   "source": [
    "test.print()"
   ]
  },
  {
   "cell_type": "code",
   "execution_count": null,
   "metadata": {},
   "outputs": [],
   "source": []
  }
 ],
 "metadata": {
  "kernelspec": {
   "display_name": "Python 3",
   "language": "python",
   "name": "python3"
  },
  "language_info": {
   "codemirror_mode": {
    "name": "ipython",
    "version": 3
   },
   "file_extension": ".py",
   "mimetype": "text/x-python",
   "name": "python",
   "nbconvert_exporter": "python",
   "pygments_lexer": "ipython3",
   "version": "3.8.3"
  }
 },
 "nbformat": 4,
 "nbformat_minor": 4
}
