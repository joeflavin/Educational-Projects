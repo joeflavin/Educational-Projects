{
 "cells": [
  {
   "cell_type": "markdown",
   "metadata": {},
   "source": [
    "### First define the MySeries Class"
   ]
  },
  {
   "cell_type": "code",
   "execution_count": null,
   "metadata": {},
   "outputs": [],
   "source": [
    "class MySeries:\n",
    "    def __init__(self, values, index = None):\n",
    "        self.s_dict = {}\n",
    "        if isinstance(values, dict):\n",
    "            for key in values.keys():\n",
    "                self.s_dict[key] = values[key]\n",
    "        elif isinstance(values, list) and index == None:\n",
    "            for i in range(len(values)):\n",
    "                self.s_dict[i] = values[i]\n",
    "        elif isinstance(values, list) and isinstance(index, list):\n",
    "            if len(values) == len(index):\n",
    "                for i in range(len(index)):\n",
    "                    self.s_dict[index[i]] = values[i]\n",
    "            else:                \n",
    "                raise ValueError(\"error: value-index mismatch!\")\n",
    "        elif not isinstance(index, list):\n",
    "            raise TypeError(\"error: index must be a list of indexes\")\n",
    "        elif not isinstance(values, list):\n",
    "            raise TypeError(\"error: argument(s) must be of type list\")\n",
    "        else:\n",
    "            raise TypeError(\"error: arguments of invalid type(s)\")\n",
    "        \n",
    "    def min(self):\n",
    "        return min(self.s_dict.values())\n",
    "    \n",
    "    def max(self):\n",
    "        return max(self.s_dict.values())\n",
    "    \n",
    "    def mean(self):\n",
    "        summation = 0\n",
    "        for key in self.s_dict.keys():\n",
    "            if not (isinstance(self.s_dict[key], int) or isinstance(self.s_dict[key], float)):\n",
    "                return None\n",
    "            else:\n",
    "                summation += self.s_dict[key]\n",
    "        return summation / len(self.s_dict)\n",
    "            \n",
    "    def print(self):\n",
    "        for key in self.s_dict.keys():\n",
    "            print(\"{:<15} {:<15}\".format(key, self.s_dict[key]))\n",
    "    \n",
    "    def item_at_ind(self, index):\n",
    "        return self.s_dict[index]      \n",
    "    "
   ]
  },
  {
   "cell_type": "markdown",
   "metadata": {},
   "source": [
    "### Test the MySeries Class"
   ]
  },
  {
   "cell_type": "markdown",
   "metadata": {},
   "source": [
    "#### Define a MySeries instance using a dictionary"
   ]
  },
  {
   "cell_type": "code",
   "execution_count": null,
   "metadata": {},
   "outputs": [],
   "source": [
    "d = {'b':1, 'a':0, 'c':2}\n",
    "s2 = MySeries(d)"
   ]
  },
  {
   "cell_type": "code",
   "execution_count": null,
   "metadata": {},
   "outputs": [],
   "source": [
    "s2.max()"
   ]
  },
  {
   "cell_type": "code",
   "execution_count": null,
   "metadata": {},
   "outputs": [],
   "source": [
    "s2.min()"
   ]
  },
  {
   "cell_type": "code",
   "execution_count": null,
   "metadata": {},
   "outputs": [],
   "source": [
    "s2.mean()"
   ]
  },
  {
   "cell_type": "code",
   "execution_count": null,
   "metadata": {},
   "outputs": [],
   "source": [
    "s2.print()"
   ]
  },
  {
   "cell_type": "markdown",
   "metadata": {},
   "source": [
    "#### Define MySeries instance using lists"
   ]
  },
  {
   "cell_type": "code",
   "execution_count": null,
   "metadata": {},
   "outputs": [],
   "source": [
    "s3 = MySeries([1,3,2,5,4], ['one', 'three', 'two', 'five', 'four'])"
   ]
  },
  {
   "cell_type": "code",
   "execution_count": null,
   "metadata": {},
   "outputs": [],
   "source": [
    "s3.max()"
   ]
  },
  {
   "cell_type": "code",
   "execution_count": null,
   "metadata": {},
   "outputs": [],
   "source": [
    "s3.min()"
   ]
  },
  {
   "cell_type": "code",
   "execution_count": null,
   "metadata": {},
   "outputs": [],
   "source": [
    "s3.mean()"
   ]
  },
  {
   "cell_type": "code",
   "execution_count": null,
   "metadata": {},
   "outputs": [],
   "source": [
    "s3.print()"
   ]
  },
  {
   "cell_type": "code",
   "execution_count": null,
   "metadata": {},
   "outputs": [],
   "source": [
    "s3.item_at_ind('three')"
   ]
  },
  {
   "cell_type": "markdown",
   "metadata": {},
   "source": [
    "#### Define a MySeries instance without an index"
   ]
  },
  {
   "cell_type": "code",
   "execution_count": null,
   "metadata": {},
   "outputs": [],
   "source": [
    "s4 = MySeries([2,2,2,3,3,3])"
   ]
  },
  {
   "cell_type": "code",
   "execution_count": null,
   "metadata": {},
   "outputs": [],
   "source": [
    "s4.max()"
   ]
  },
  {
   "cell_type": "code",
   "execution_count": null,
   "metadata": {},
   "outputs": [],
   "source": [
    "s4.min()"
   ]
  },
  {
   "cell_type": "code",
   "execution_count": null,
   "metadata": {},
   "outputs": [],
   "source": [
    "s4.mean()"
   ]
  },
  {
   "cell_type": "code",
   "execution_count": null,
   "metadata": {},
   "outputs": [],
   "source": [
    "s4.print()"
   ]
  },
  {
   "cell_type": "markdown",
   "metadata": {},
   "source": [
    "### Now define the MyDataFrame Class"
   ]
  },
  {
   "cell_type": "code",
   "execution_count": null,
   "metadata": {},
   "outputs": [],
   "source": [
    "class MyDataFrame:\n",
    "    \"\"\" MyDataFrame depends on MySeries Class \"\"\"\n",
    "    def __init__(self, dictionary, index = None):\n",
    "        self.df_dict = {}        \n",
    "        if isinstance(dictionary, dict) and index == None:\n",
    "            for key in dictionary.keys():\n",
    "                self.df_dict[key] = MySeries(dictionary[key])\n",
    "        elif isinstance(dictionary, dict) and isinstance(index, list):\n",
    "            for key in dictionary.keys():\n",
    "                if len(dictionary[key]) != len(index):\n",
    "                    raise ValueError(\"error: value-index mismatch!\")\n",
    "            for key in dictionary.keys():\n",
    "                self.df_dict[key] = MySeries(dictionary[key], index)\n",
    "        else:\n",
    "            raise TypeError(\"error: input arguments must be a dictionary and optionally an indexing list\")\n",
    "\n",
    "    def print(self):\n",
    "        \"\"\" Prints MyDataFrame instance \"\"\"\n",
    "        columns = list(self.df_dict.keys())\n",
    "        print(\"{:<15} {:<15} {:<15} {:<15} {:<15} {:<15}\".format('',*columns))\n",
    "        column = columns[0]\n",
    "        for subkey in self.df_dict[column].s_dict.keys():\n",
    "            row = subkey\n",
    "            values = []\n",
    "            for columnkey in self.df_dict.keys():\n",
    "                values.append(self.df_dict[columnkey].s_dict[row])\n",
    "            print(\"{:<15} {:<15} {:<15} {:<15} {:<15} {:<15}\".format(row, *values))\n",
    "         \n",
    "    def sort_values(self, key):\n",
    "        \"\"\" Sorts a Data Frame instance in-place by key \"\"\"\n",
    "        if key not in self.df_dict.keys():\n",
    "            raise ValueError(\"error: given key not found in data frame instance\")\n",
    "        column = self.df_dict[key].s_dict\n",
    "        sorted_keys = sorted(column, key=column.get)\n",
    "        for columnkey in self.df_dict.keys():\n",
    "            sorted_column = {}\n",
    "            for rowkey in sorted_keys:\n",
    "                sorted_column[rowkey] = self.df_dict[columnkey].s_dict[rowkey]\n",
    "            self.df_dict[columnkey].s_dict.clear()\n",
    "            for key in sorted_column.keys():\n",
    "                self.df_dict[columnkey].s_dict[key] = sorted_column[key]\n",
    "    \n",
    "    def min(self):\n",
    "        for key in self.df_dict.keys():\n",
    "            minimum = self.df_dict[key].min()\n",
    "            if type(minimum) == str:\n",
    "                print(\"{:<15} {}\".format(key, minimum))\n",
    "            else:\n",
    "                print(\"{:<15} {:8.2f}\".format(key, minimum))\n",
    "    \n",
    "    def max(self):\n",
    "        for key in self.df_dict.keys():\n",
    "            maximum = self.df_dict[key].max()\n",
    "            if type(maximum) == str:\n",
    "                print(\"{:<15} {}\".format(key, maximum))\n",
    "            else:\n",
    "                print(\"{:<15} {:8.2f}\".format(key, maximum))\n",
    "    \n",
    "    def mean(self):\n",
    "        for key in self.df_dict.keys():\n",
    "            average = self.df_dict[key].mean()\n",
    "            if average == None:\n",
    "                continue\n",
    "            else:\n",
    "                print(\"{:<15} {:8.2f}\".format(key, average))\n",
    "\n"
   ]
  },
  {
   "cell_type": "markdown",
   "metadata": {},
   "source": [
    "### Test the MyDataFrame Class"
   ]
  },
  {
   "cell_type": "markdown",
   "metadata": {},
   "source": [
    "#### Weather Data Frame"
   ]
  },
  {
   "cell_type": "code",
   "execution_count": null,
   "metadata": {},
   "outputs": [],
   "source": [
    "d = {'Sun Hours': [4.5,4.0,5.1,5],\n",
    "     'Max Temp': [19.6,19.1,19.6,20.0],\n",
    "     'Min Temp': [12.7,12.5,13.3,12.1],\n",
    "     'Rain (mm)': [82,109,65,76],\n",
    "     'Rain Days': [13,20,10,9.7]}"
   ]
  },
  {
   "cell_type": "code",
   "execution_count": null,
   "metadata": {},
   "outputs": [],
   "source": [
    "df2 = MyDataFrame(d, index = ['Clare', 'Galway', 'Dublin', 'Wexford'])"
   ]
  },
  {
   "cell_type": "code",
   "execution_count": null,
   "metadata": {},
   "outputs": [],
   "source": [
    "df2.df_dict['Sun Hours'].s_dict.keys()"
   ]
  },
  {
   "cell_type": "code",
   "execution_count": null,
   "metadata": {},
   "outputs": [],
   "source": [
    "df2.df_dict['Max Temp'].item_at_ind('Clare')"
   ]
  },
  {
   "cell_type": "code",
   "execution_count": null,
   "metadata": {},
   "outputs": [],
   "source": [
    "df2.df_dict['Sun Hours'].print()"
   ]
  },
  {
   "cell_type": "code",
   "execution_count": null,
   "metadata": {},
   "outputs": [],
   "source": [
    "df2.print()"
   ]
  },
  {
   "cell_type": "code",
   "execution_count": null,
   "metadata": {},
   "outputs": [],
   "source": [
    "df2.sort_values('Rain (mm)')"
   ]
  },
  {
   "cell_type": "code",
   "execution_count": null,
   "metadata": {},
   "outputs": [],
   "source": [
    "df2.print()"
   ]
  },
  {
   "cell_type": "code",
   "execution_count": null,
   "metadata": {},
   "outputs": [],
   "source": [
    "df2.min()"
   ]
  },
  {
   "cell_type": "code",
   "execution_count": null,
   "metadata": {},
   "outputs": [],
   "source": [
    "df2.max()"
   ]
  },
  {
   "cell_type": "code",
   "execution_count": null,
   "metadata": {},
   "outputs": [],
   "source": [
    "df2.mean()"
   ]
  },
  {
   "cell_type": "markdown",
   "metadata": {},
   "source": [
    "#### Films Data Frame"
   ]
  },
  {
   "cell_type": "code",
   "execution_count": null,
   "metadata": {},
   "outputs": [],
   "source": [
    "films = {'Rank': [112,62,41,172,230,176],\n",
    "        'Release Year': [1973,1980,1960,2015,1976,1996],\n",
    "        'IMDB Rating': [8.3,8.4,8.5,8.1,8.1,8.1],\n",
    "        'Time (minutes)': [129,146,109,118,120,98],\n",
    "        'Main Genre': ['Comedy','Horror','Horror','Drama','Drama','Drama']}\n",
    "f_names = ['Sting','Shining', 'Psycho','Room','Rocky','Fargo']\n",
    "\n",
    "films_df =  MyDataFrame(films, index = f_names) "
   ]
  },
  {
   "cell_type": "code",
   "execution_count": null,
   "metadata": {},
   "outputs": [],
   "source": [
    "films_df.print()"
   ]
  },
  {
   "cell_type": "code",
   "execution_count": null,
   "metadata": {},
   "outputs": [],
   "source": [
    "films_df.mean()"
   ]
  },
  {
   "cell_type": "code",
   "execution_count": null,
   "metadata": {},
   "outputs": [],
   "source": [
    "films_df.sort_values('Release Year')"
   ]
  },
  {
   "cell_type": "code",
   "execution_count": null,
   "metadata": {},
   "outputs": [],
   "source": [
    "films_df.print()"
   ]
  },
  {
   "cell_type": "code",
   "execution_count": null,
   "metadata": {},
   "outputs": [],
   "source": [
    "films_df.sort_values('Time (minutes)')"
   ]
  },
  {
   "cell_type": "code",
   "execution_count": null,
   "metadata": {},
   "outputs": [],
   "source": [
    "films_df.print()"
   ]
  },
  {
   "cell_type": "code",
   "execution_count": null,
   "metadata": {},
   "outputs": [],
   "source": [
    "films_df.max()"
   ]
  },
  {
   "cell_type": "markdown",
   "metadata": {},
   "source": [
    "#### An unindexed version of the Weather Data Frame"
   ]
  },
  {
   "cell_type": "code",
   "execution_count": null,
   "metadata": {},
   "outputs": [],
   "source": [
    "test = MyDataFrame(d)"
   ]
  },
  {
   "cell_type": "code",
   "execution_count": null,
   "metadata": {},
   "outputs": [],
   "source": [
    "test.print()"
   ]
  },
  {
   "cell_type": "code",
   "execution_count": null,
   "metadata": {},
   "outputs": [],
   "source": []
  }
 ],
 "metadata": {
  "kernelspec": {
   "display_name": "Python 3",
   "language": "python",
   "name": "python3"
  },
  "language_info": {
   "codemirror_mode": {
    "name": "ipython",
    "version": 3
   },
   "file_extension": ".py",
   "mimetype": "text/x-python",
   "name": "python",
   "nbconvert_exporter": "python",
   "pygments_lexer": "ipython3",
   "version": "3.8.3"
  }
 },
 "nbformat": 4,
 "nbformat_minor": 4
}
