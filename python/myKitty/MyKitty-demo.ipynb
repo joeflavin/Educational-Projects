{
 "cells": [
  {
   "cell_type": "code",
   "execution_count": 1,
   "metadata": {},
   "outputs": [],
   "source": [
    "from myKitty import Person, Transaction, Event"
   ]
  },
  {
   "cell_type": "markdown",
   "metadata": {},
   "source": [
    "Create some People:"
   ]
  },
  {
   "cell_type": "code",
   "execution_count": 2,
   "metadata": {},
   "outputs": [],
   "source": [
    "a = Person('Annie')\n",
    "s = Person('Sally')\n",
    "b = Person('Bill')\n",
    "r = Person('Robin')\n",
    "x = Person('Extra Person')"
   ]
  },
  {
   "cell_type": "markdown",
   "metadata": {},
   "source": [
    "Create an event, adding a list of participants"
   ]
  },
  {
   "cell_type": "code",
   "execution_count": 3,
   "metadata": {},
   "outputs": [],
   "source": [
    "gig = Event('Concert', [a, s, b])"
   ]
  },
  {
   "cell_type": "markdown",
   "metadata": {},
   "source": [
    "Try add an already participating person."
   ]
  },
  {
   "cell_type": "code",
   "execution_count": 4,
   "metadata": {},
   "outputs": [
    {
     "name": "stdout",
     "output_type": "stream",
     "text": [
      "Bill is already a participant in this event.\n"
     ]
    }
   ],
   "source": [
    "gig.add_participant(b)"
   ]
  },
  {
   "cell_type": "code",
   "execution_count": 5,
   "metadata": {},
   "outputs": [],
   "source": [
    "gig.add_transaction('Tickets', 180, a)\n",
    "gig.add_transaction('Dinner', 75, s)\n",
    "gig.add_transaction('Drinks', 19, b)"
   ]
  },
  {
   "cell_type": "code",
   "execution_count": 6,
   "metadata": {},
   "outputs": [
    {
     "data": {
      "text/plain": [
       "274"
      ]
     },
     "execution_count": 6,
     "metadata": {},
     "output_type": "execute_result"
    }
   ],
   "source": [
    "gig.total()"
   ]
  },
  {
   "cell_type": "code",
   "execution_count": 7,
   "metadata": {},
   "outputs": [
    {
     "data": {
      "text/plain": [
       "91.33333333333333"
      ]
     },
     "execution_count": 7,
     "metadata": {},
     "output_type": "execute_result"
    }
   ],
   "source": [
    "gig.costpp()"
   ]
  },
  {
   "cell_type": "code",
   "execution_count": 8,
   "metadata": {},
   "outputs": [],
   "source": [
    "gig.add_transaction('Taxi', 16, b)"
   ]
  },
  {
   "cell_type": "code",
   "execution_count": 9,
   "metadata": {},
   "outputs": [
    {
     "data": {
      "text/plain": [
       "290"
      ]
     },
     "execution_count": 9,
     "metadata": {},
     "output_type": "execute_result"
    }
   ],
   "source": [
    "gig.total()"
   ]
  },
  {
   "cell_type": "markdown",
   "metadata": {},
   "source": [
    "Demonstrate error catching:"
   ]
  },
  {
   "cell_type": "code",
   "execution_count": 10,
   "metadata": {},
   "outputs": [
    {
     "name": "stdout",
     "output_type": "stream",
     "text": [
      "Error: Extra Person is not registered to this event.\n"
     ]
    }
   ],
   "source": [
    "gig.add_transaction('Something', 400, x)"
   ]
  },
  {
   "cell_type": "code",
   "execution_count": 11,
   "metadata": {},
   "outputs": [
    {
     "name": "stdout",
     "output_type": "stream",
     "text": [
      "Error: Robin is not registered to this event.\n"
     ]
    }
   ],
   "source": [
    "gig.add_transaction('Something else', 200, r)"
   ]
  },
  {
   "cell_type": "code",
   "execution_count": 12,
   "metadata": {},
   "outputs": [
    {
     "name": "stdout",
     "output_type": "stream",
     "text": [
      "Error: Amount must be greater than zero.\n"
     ]
    }
   ],
   "source": [
    "gig.add_transaction('Things', -100, a)"
   ]
  },
  {
   "cell_type": "code",
   "execution_count": 13,
   "metadata": {},
   "outputs": [
    {
     "name": "stdout",
     "output_type": "stream",
     "text": [
      "Error: Amount must be a number.\n"
     ]
    }
   ],
   "source": [
    "gig.add_transaction('Stuff', 'ahy', a)"
   ]
  },
  {
   "cell_type": "markdown",
   "metadata": {},
   "source": [
    "Calculate Reconciliations for the Event \"gig\""
   ]
  },
  {
   "cell_type": "code",
   "execution_count": 14,
   "metadata": {},
   "outputs": [
    {
     "name": "stdout",
     "output_type": "stream",
     "text": [
      "Total: €290.00 that is €96.67 each.\n",
      "\n",
      "Annie has balance €83.33.\n",
      "Sally has balance €-21.67.\n",
      "Bill has balance €-61.67.\n",
      "\n",
      "Sally pays Annie €21.67\n",
      "Bill pays Annie €61.67\n"
     ]
    }
   ],
   "source": [
    "gig.reconcile()"
   ]
  },
  {
   "cell_type": "markdown",
   "metadata": {},
   "source": [
    "Event 2 & 3:"
   ]
  },
  {
   "cell_type": "markdown",
   "metadata": {},
   "source": [
    "Make some people."
   ]
  },
  {
   "cell_type": "code",
   "execution_count": 15,
   "metadata": {},
   "outputs": [],
   "source": [
    "n = Person('Nora')\n",
    "e = Person('Eva')\n",
    "f = Person('Frankie')\n",
    "h = Person('Harry')\n",
    "c = Person('Cathy')\n",
    "r = Person('Robin')\n",
    "j = Person('Jen')"
   ]
  },
  {
   "cell_type": "markdown",
   "metadata": {},
   "source": [
    "Make two events."
   ]
  },
  {
   "cell_type": "code",
   "execution_count": 16,
   "metadata": {},
   "outputs": [],
   "source": [
    "wkd = Event('Weekend', [n, e, f, h])\n",
    "cinema = Event('Cinema', [c,r,j])"
   ]
  },
  {
   "cell_type": "markdown",
   "metadata": {},
   "source": [
    "Try to add someone to a second event."
   ]
  },
  {
   "cell_type": "code",
   "execution_count": 17,
   "metadata": {},
   "outputs": [
    {
     "name": "stdout",
     "output_type": "stream",
     "text": [
      "Frankie is already a member of an activity. Can join only a single activity at any given time.\n"
     ]
    }
   ],
   "source": [
    "cinema.add_participant(f)"
   ]
  },
  {
   "cell_type": "markdown",
   "metadata": {},
   "source": [
    "Event 2 - Weekend Away:"
   ]
  },
  {
   "cell_type": "code",
   "execution_count": 18,
   "metadata": {},
   "outputs": [],
   "source": [
    "wkd.add_transaction('Fri Dinner', 110, n)\n",
    "wkd.add_transaction('Sat Lunch', 60, e)\n",
    "wkd.add_transaction('Sat Dinner', 125, f)\n",
    "wkd.add_transaction('Sun Lunch', 70, h)"
   ]
  },
  {
   "cell_type": "code",
   "execution_count": 19,
   "metadata": {},
   "outputs": [
    {
     "name": "stdout",
     "output_type": "stream",
     "text": [
      "Total: €365.00 that is €91.25 each.\n",
      "\n",
      "Nora has balance €18.75.\n",
      "Eva has balance €-31.25.\n",
      "Frankie has balance €33.75.\n",
      "Harry has balance €-21.25.\n",
      "\n",
      "Eva pays Nora €18.75\n",
      "Eva pays Frankie €12.50\n",
      "Harry pays Frankie €21.25\n"
     ]
    }
   ],
   "source": [
    "wkd.reconcile()"
   ]
  },
  {
   "cell_type": "markdown",
   "metadata": {},
   "source": [
    "Event 3 - Cinema:"
   ]
  },
  {
   "cell_type": "code",
   "execution_count": 20,
   "metadata": {},
   "outputs": [],
   "source": [
    "cinema.add_transaction('Tickets', 33, c)\n",
    "cinema.add_transaction('Dinner', 60, r)\n",
    "cinema.add_transaction('Drinks', 21, j)\n",
    "cinema.add_transaction('Taxi', 27, j)"
   ]
  },
  {
   "cell_type": "code",
   "execution_count": 21,
   "metadata": {},
   "outputs": [
    {
     "name": "stdout",
     "output_type": "stream",
     "text": [
      "Total: €141.00 that is €47.00 each.\n",
      "\n",
      "Cathy has balance €-14.00.\n",
      "Robin has balance €13.00.\n",
      "Jen has balance €1.00.\n",
      "\n",
      "Cathy pays Robin €13.00\n",
      "Cathy pays Jen €1.00\n"
     ]
    }
   ],
   "source": [
    "cinema.reconcile()"
   ]
  },
  {
   "cell_type": "markdown",
   "metadata": {},
   "source": [
    "Test Event:"
   ]
  },
  {
   "cell_type": "code",
   "execution_count": 22,
   "metadata": {},
   "outputs": [],
   "source": [
    "a = Person('Alan')\n",
    "b = Person('Bobbi')\n",
    "c = Person('Clive')\n",
    "d = Person('Danielle')\n",
    "e = Person('Edgar')\n",
    "pcrawl = Event('Pub Crawl', [a,b,c,d,e])"
   ]
  },
  {
   "cell_type": "code",
   "execution_count": 23,
   "metadata": {},
   "outputs": [],
   "source": [
    "pcrawl.add_transaction('Round 1', 90, a)\n",
    "pcrawl.add_transaction('Round 2', 50, b)\n",
    "pcrawl.add_transaction('Round 3', 75, c)\n",
    "pcrawl.add_transaction('Round 4', 90, a)\n",
    "pcrawl.add_transaction('Round 5', 35, b)\n",
    "pcrawl.add_transaction('Chips', 20, e)"
   ]
  },
  {
   "cell_type": "code",
   "execution_count": 24,
   "metadata": {},
   "outputs": [
    {
     "data": {
      "text/plain": [
       "360"
      ]
     },
     "execution_count": 24,
     "metadata": {},
     "output_type": "execute_result"
    }
   ],
   "source": [
    "pcrawl.total()"
   ]
  },
  {
   "cell_type": "code",
   "execution_count": 25,
   "metadata": {},
   "outputs": [
    {
     "name": "stdout",
     "output_type": "stream",
     "text": [
      "Total: €360.00 that is €72.00 each.\n",
      "\n",
      "Alan has balance €108.00.\n",
      "Bobbi has balance €13.00.\n",
      "Clive has balance €3.00.\n",
      "Danielle has balance €-72.00.\n",
      "Edgar has balance €-52.00.\n",
      "\n",
      "Danielle pays Alan €72.00\n",
      "Edgar pays Alan €36.00\n",
      "Edgar pays Bobbi €13.00\n",
      "Edgar pays Clive €3.00\n"
     ]
    }
   ],
   "source": [
    "pcrawl.reconcile()"
   ]
  },
  {
   "cell_type": "code",
   "execution_count": null,
   "metadata": {},
   "outputs": [],
   "source": []
  }
 ],
 "metadata": {
  "kernelspec": {
   "display_name": "Python 3",
   "language": "python",
   "name": "python3"
  },
  "language_info": {
   "codemirror_mode": {
    "name": "ipython",
    "version": 3
   },
   "file_extension": ".py",
   "mimetype": "text/x-python",
   "name": "python",
   "nbconvert_exporter": "python",
   "pygments_lexer": "ipython3",
   "version": "3.8.3"
  }
 },
 "nbformat": 4,
 "nbformat_minor": 4
}
