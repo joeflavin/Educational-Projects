{
 "cells": [
  {
   "cell_type": "code",
   "execution_count": null,
   "metadata": {},
   "outputs": [],
   "source": [
    "class Person:\n",
    "    def __init__(self, name):\n",
    "        self.name = name\n",
    "        self._membership = []     # Is a person a member of an event?\n",
    "        self.payments = 0\n",
    "        self.balance = 0\n",
    "\n",
    "class Transaction:\n",
    "    def __init__(self, t_name, event, amount, payee):\n",
    "        self.t_name = t_name\n",
    "        self.event = event\n",
    "        self.amount = amount\n",
    "        self.payee = payee\n",
    "        self.payee.payments += amount\n",
    "\n",
    "class Event:\n",
    "    \"\"\" Create an event.\n",
    "    \n",
    "    e_name is a string.\n",
    "    participants is a list of Person instances.\n",
    "    \"\"\"\n",
    "    def __init__(self, e_name, participants):\n",
    "        self.e_name = e_name\n",
    "        self.participants = []\n",
    "        self._transactions = []\n",
    "        self.debtors = []\n",
    "        self.creditors = []\n",
    "        for person in participants:\n",
    "            self.add_participant(person)\n",
    "\n",
    "    def add_participant(self, participant):\n",
    "        \"\"\" Add an individual participant to the event. \"\"\"\n",
    "        if isinstance(participant, Person):\n",
    "            if participant in self.participants:\n",
    "                print(participant.name, \"is already a participant in this event.\")\n",
    "            elif len(participant._membership) == 0:\n",
    "                participant._membership.append(self.e_name)\n",
    "                self.participants.append(participant)\n",
    "            else:           \n",
    "                print(participant.name, \"is already a member of an activity. Can join only a single activity at any given time.\")\n",
    "        else:\n",
    "            print('Error:', participant, 'is not a Person!')\n",
    "            \n",
    "    def add_transaction(self, name, amount, payee):\n",
    "        \"\"\" Register a transaction to the event.\"\"\"\n",
    "        if not (isinstance(amount, int) or isinstance(amount, float)):\n",
    "            print(\"Error: Amount must be a number.\")\n",
    "        elif amount <= 0:\n",
    "            print(\"Error: Amount must be greater than zero.\")     \n",
    "        elif payee not in self.participants:\n",
    "            print(\"Error:\", payee.name, \"is not registered to this event.\")\n",
    "        else:\n",
    "            tr = Transaction(name, self.e_name, amount, payee)\n",
    "            self._transactions.append(tr)\n",
    "    \n",
    "    def total(self):\n",
    "        \"\"\" Get event total so far \"\"\"\n",
    "        total = 0\n",
    "        for t in self._transactions:\n",
    "            total += t.amount\n",
    "        return total\n",
    "    \n",
    "    def costpp(self):\n",
    "        \"\"\"\" Get Per Person Cost so far \"\"\"\n",
    "        return self.total() / len(self.participants)\n",
    "    \n",
    "    def event_clear(self):\n",
    "        \"\"\" Clear person attributes related to event \"\"\"\n",
    "        for p in self.participants:\n",
    "            p.balance = 0\n",
    "            p.payments = 0\n",
    "            p._membership = []\n",
    "    \n",
    "    def reconcile(self):\n",
    "        \"\"\" Calculate reconciliations for event \"\"\"\n",
    "        totalcost = self.total()\n",
    "        pp_cost = totalcost / len(self.participants)\n",
    "        print(\"Total: €{0:.2f} that is €{1:.2f} each.\\n\".format(totalcost, pp_cost))\n",
    "        self.debtors = []       # Clear these now to ensure they are empty\n",
    "        self.creditors = []\n",
    "        # For each participant calculate their balance & print results\n",
    "        for p in self.participants:\n",
    "            outstanding = p.payments - pp_cost\n",
    "            print(\"{0:s} has balance €{1:.2f}.\".format(p.name, outstanding))\n",
    "            p.balance = outstanding\n",
    "            if outstanding < 0:\n",
    "                self.debtors.append(p)\n",
    "            else:\n",
    "                self.creditors.append(p)\n",
    "        print()\n",
    "        \"\"\" For each participant in debt compare their debt to each person in credit's credit\n",
    "        and make payments when possible. Then print the payment(s).\n",
    "        \"\"\"\n",
    "        for d in self.debtors:\n",
    "            for c in self.creditors:\n",
    "                if abs(d.balance) >= c.balance:\n",
    "                    amt = c.balance\n",
    "                    d.balance += amt\n",
    "                    c.balance = 0\n",
    "                else:\n",
    "                    amt = -d.balance\n",
    "                    c.balance -= amt\n",
    "                    d.balance = 0\n",
    "                if amt > 0:\n",
    "                    print(\"{0:s} pays {1:s} €{2:.2f}\".format(d.name, c.name, amt))\n",
    "        # Clear participants involvement in the now completed event\n",
    "        self.event_clear()\n"
   ]
  },
  {
   "cell_type": "markdown",
   "metadata": {},
   "source": [
    "Create some People:"
   ]
  },
  {
   "cell_type": "code",
   "execution_count": null,
   "metadata": {},
   "outputs": [],
   "source": [
    "a = Person('Annie')\n",
    "s = Person('Sally')\n",
    "b = Person('Bill')\n",
    "r = Person('Robin')\n",
    "x = Person('Extra Person')"
   ]
  },
  {
   "cell_type": "markdown",
   "metadata": {},
   "source": [
    "Create an event, adding a list of participants"
   ]
  },
  {
   "cell_type": "code",
   "execution_count": null,
   "metadata": {},
   "outputs": [],
   "source": [
    "gig = Event('Concert', [a, s, b])"
   ]
  },
  {
   "cell_type": "markdown",
   "metadata": {},
   "source": [
    "Try add an already participating person."
   ]
  },
  {
   "cell_type": "code",
   "execution_count": null,
   "metadata": {},
   "outputs": [],
   "source": [
    "gig.add_participant(b)"
   ]
  },
  {
   "cell_type": "code",
   "execution_count": null,
   "metadata": {},
   "outputs": [],
   "source": [
    "gig.add_transaction('Tickets', 180, a)\n",
    "gig.add_transaction('Dinner', 75, s)\n",
    "gig.add_transaction('Drinks', 19, b)"
   ]
  },
  {
   "cell_type": "code",
   "execution_count": null,
   "metadata": {},
   "outputs": [],
   "source": [
    "gig.total()"
   ]
  },
  {
   "cell_type": "code",
   "execution_count": null,
   "metadata": {},
   "outputs": [],
   "source": [
    "gig.costpp()"
   ]
  },
  {
   "cell_type": "code",
   "execution_count": null,
   "metadata": {},
   "outputs": [],
   "source": [
    "gig.add_transaction('Taxi', 16, b)"
   ]
  },
  {
   "cell_type": "code",
   "execution_count": null,
   "metadata": {},
   "outputs": [],
   "source": [
    "gig.total()"
   ]
  },
  {
   "cell_type": "markdown",
   "metadata": {},
   "source": [
    "Demonstrate error catching:"
   ]
  },
  {
   "cell_type": "code",
   "execution_count": null,
   "metadata": {},
   "outputs": [],
   "source": [
    "gig.add_transaction('Something', 400, x)"
   ]
  },
  {
   "cell_type": "code",
   "execution_count": null,
   "metadata": {},
   "outputs": [],
   "source": [
    "gig.add_transaction('Something else', 200, r)"
   ]
  },
  {
   "cell_type": "code",
   "execution_count": null,
   "metadata": {},
   "outputs": [],
   "source": [
    "gig.add_transaction('Things', -100, a)"
   ]
  },
  {
   "cell_type": "code",
   "execution_count": null,
   "metadata": {},
   "outputs": [],
   "source": [
    "gig.add_transaction('Stuff', 'ahy', a)"
   ]
  },
  {
   "cell_type": "markdown",
   "metadata": {},
   "source": [
    "Calculate Reconciliations for the Event \"gig\""
   ]
  },
  {
   "cell_type": "code",
   "execution_count": null,
   "metadata": {},
   "outputs": [],
   "source": [
    "gig.reconcile()"
   ]
  },
  {
   "cell_type": "markdown",
   "metadata": {},
   "source": [
    "Event 2 & 3:"
   ]
  },
  {
   "cell_type": "markdown",
   "metadata": {},
   "source": [
    "Make some people."
   ]
  },
  {
   "cell_type": "code",
   "execution_count": null,
   "metadata": {},
   "outputs": [],
   "source": [
    "n = Person('Nora')\n",
    "e = Person('Eva')\n",
    "f = Person('Frankie')\n",
    "h = Person('Harry')\n",
    "c = Person('Cathy')\n",
    "r = Person('Robin')\n",
    "j = Person('Jen')"
   ]
  },
  {
   "cell_type": "markdown",
   "metadata": {},
   "source": [
    "Make two events."
   ]
  },
  {
   "cell_type": "code",
   "execution_count": null,
   "metadata": {},
   "outputs": [],
   "source": [
    "wkd = Event('Weekend', [n, e, f, h])\n",
    "cinema = Event('Cinema', [c,r,j])"
   ]
  },
  {
   "cell_type": "markdown",
   "metadata": {},
   "source": [
    "Try to add someone to a second event."
   ]
  },
  {
   "cell_type": "code",
   "execution_count": null,
   "metadata": {},
   "outputs": [],
   "source": [
    "cinema.add_participant(f)"
   ]
  },
  {
   "cell_type": "markdown",
   "metadata": {},
   "source": [
    "Event 2 - Weekend Away:"
   ]
  },
  {
   "cell_type": "code",
   "execution_count": null,
   "metadata": {},
   "outputs": [],
   "source": [
    "wkd.add_transaction('Fri Dinner', 110, n)\n",
    "wkd.add_transaction('Sat Lunch', 60, e)\n",
    "wkd.add_transaction('Sat Dinner', 125, f)\n",
    "wkd.add_transaction('Sun Lunch', 70, h)"
   ]
  },
  {
   "cell_type": "code",
   "execution_count": null,
   "metadata": {},
   "outputs": [],
   "source": [
    "wkd.reconcile()"
   ]
  },
  {
   "cell_type": "markdown",
   "metadata": {},
   "source": [
    "Event 3 - Cinema:"
   ]
  },
  {
   "cell_type": "code",
   "execution_count": null,
   "metadata": {},
   "outputs": [],
   "source": [
    "cinema.add_transaction('Tickets', 33, c)\n",
    "cinema.add_transaction('Dinner', 60, r)\n",
    "cinema.add_transaction('Drinks', 21, j)\n",
    "cinema.add_transaction('Taxi', 27, j)"
   ]
  },
  {
   "cell_type": "code",
   "execution_count": null,
   "metadata": {},
   "outputs": [],
   "source": [
    "cinema.reconcile()"
   ]
  },
  {
   "cell_type": "markdown",
   "metadata": {},
   "source": [
    "Test Event:"
   ]
  },
  {
   "cell_type": "code",
   "execution_count": null,
   "metadata": {},
   "outputs": [],
   "source": [
    "a = Person('Alan')\n",
    "b = Person('Bobbi')\n",
    "c = Person('Clive')\n",
    "d = Person('Danielle')\n",
    "e = Person('Edgar')\n",
    "pcrawl = Event('Pub Crawl', [a,b,c,d,e])"
   ]
  },
  {
   "cell_type": "code",
   "execution_count": null,
   "metadata": {},
   "outputs": [],
   "source": [
    "pcrawl.add_transaction('Round 1', 90, a)\n",
    "pcrawl.add_transaction('Round 2', 50, b)\n",
    "pcrawl.add_transaction('Round 3', 75, c)\n",
    "pcrawl.add_transaction('Round 4', 90, a)\n",
    "pcrawl.add_transaction('Round 5', 35, b)\n",
    "pcrawl.add_transaction('Chips', 20, e)"
   ]
  },
  {
   "cell_type": "code",
   "execution_count": null,
   "metadata": {},
   "outputs": [],
   "source": [
    "pcrawl.total()"
   ]
  },
  {
   "cell_type": "code",
   "execution_count": null,
   "metadata": {},
   "outputs": [],
   "source": [
    "pcrawl.reconcile()"
   ]
  },
  {
   "cell_type": "code",
   "execution_count": null,
   "metadata": {},
   "outputs": [],
   "source": []
  }
 ],
 "metadata": {
  "kernelspec": {
   "display_name": "Python 3",
   "language": "python",
   "name": "python3"
  },
  "language_info": {
   "codemirror_mode": {
    "name": "ipython",
    "version": 3
   },
   "file_extension": ".py",
   "mimetype": "text/x-python",
   "name": "python",
   "nbconvert_exporter": "python",
   "pygments_lexer": "ipython3",
   "version": "3.8.3"
  }
 },
 "nbformat": 4,
 "nbformat_minor": 4
}
